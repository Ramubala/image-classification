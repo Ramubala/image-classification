{
  "nbformat": 4,
  "nbformat_minor": 0,
  "metadata": {
    "colab": {
      "provenance": [],
      "authorship_tag": "ABX9TyMZITs4lPatfXChuruHuxRU",
      "include_colab_link": true
    },
    "kernelspec": {
      "name": "python3",
      "display_name": "Python 3"
    },
    "language_info": {
      "name": "python"
    },
    "accelerator": "GPU",
    "gpuClass": "standard",
    "widgets": {
      "application/vnd.jupyter.widget-state+json": {
        "3e17d10a722f4daeb7adb177109380d8": {
          "model_module": "@jupyter-widgets/controls",
          "model_name": "HBoxModel",
          "model_module_version": "1.5.0",
          "state": {
            "_dom_classes": [],
            "_model_module": "@jupyter-widgets/controls",
            "_model_module_version": "1.5.0",
            "_model_name": "HBoxModel",
            "_view_count": null,
            "_view_module": "@jupyter-widgets/controls",
            "_view_module_version": "1.5.0",
            "_view_name": "HBoxView",
            "box_style": "",
            "children": [
              "IPY_MODEL_038f9a00e1c34f31a75f2c0464ccb987",
              "IPY_MODEL_84c0bc2f5fe34b41b467c7c024e50cfd",
              "IPY_MODEL_7ac9d1a86a764e5285c111278d5d94ed"
            ],
            "layout": "IPY_MODEL_6b5aaacbd8284c768e867a7b608ed507"
          }
        },
        "038f9a00e1c34f31a75f2c0464ccb987": {
          "model_module": "@jupyter-widgets/controls",
          "model_name": "HTMLModel",
          "model_module_version": "1.5.0",
          "state": {
            "_dom_classes": [],
            "_model_module": "@jupyter-widgets/controls",
            "_model_module_version": "1.5.0",
            "_model_name": "HTMLModel",
            "_view_count": null,
            "_view_module": "@jupyter-widgets/controls",
            "_view_module_version": "1.5.0",
            "_view_name": "HTMLView",
            "description": "",
            "description_tooltip": null,
            "layout": "IPY_MODEL_b15f6ae336024498a4f529f9b93a0509",
            "placeholder": "​",
            "style": "IPY_MODEL_54bde32c71d84b92ae33a3e8ebb8af13",
            "value": "100%"
          }
        },
        "84c0bc2f5fe34b41b467c7c024e50cfd": {
          "model_module": "@jupyter-widgets/controls",
          "model_name": "FloatProgressModel",
          "model_module_version": "1.5.0",
          "state": {
            "_dom_classes": [],
            "_model_module": "@jupyter-widgets/controls",
            "_model_module_version": "1.5.0",
            "_model_name": "FloatProgressModel",
            "_view_count": null,
            "_view_module": "@jupyter-widgets/controls",
            "_view_module_version": "1.5.0",
            "_view_name": "ProgressView",
            "bar_style": "success",
            "description": "",
            "description_tooltip": null,
            "layout": "IPY_MODEL_24e971e1d3d9405ca22a8a1d1b015431",
            "max": 9912422,
            "min": 0,
            "orientation": "horizontal",
            "style": "IPY_MODEL_9740c5f974b540c8957747249592f9c0",
            "value": 9912422
          }
        },
        "7ac9d1a86a764e5285c111278d5d94ed": {
          "model_module": "@jupyter-widgets/controls",
          "model_name": "HTMLModel",
          "model_module_version": "1.5.0",
          "state": {
            "_dom_classes": [],
            "_model_module": "@jupyter-widgets/controls",
            "_model_module_version": "1.5.0",
            "_model_name": "HTMLModel",
            "_view_count": null,
            "_view_module": "@jupyter-widgets/controls",
            "_view_module_version": "1.5.0",
            "_view_name": "HTMLView",
            "description": "",
            "description_tooltip": null,
            "layout": "IPY_MODEL_41ea4dde3cd346869c1bccdc2bb87741",
            "placeholder": "​",
            "style": "IPY_MODEL_1bed0cb722c242e2b567e91eca63af84",
            "value": " 9912422/9912422 [00:00&lt;00:00, 217749124.01it/s]"
          }
        },
        "6b5aaacbd8284c768e867a7b608ed507": {
          "model_module": "@jupyter-widgets/base",
          "model_name": "LayoutModel",
          "model_module_version": "1.2.0",
          "state": {
            "_model_module": "@jupyter-widgets/base",
            "_model_module_version": "1.2.0",
            "_model_name": "LayoutModel",
            "_view_count": null,
            "_view_module": "@jupyter-widgets/base",
            "_view_module_version": "1.2.0",
            "_view_name": "LayoutView",
            "align_content": null,
            "align_items": null,
            "align_self": null,
            "border": null,
            "bottom": null,
            "display": null,
            "flex": null,
            "flex_flow": null,
            "grid_area": null,
            "grid_auto_columns": null,
            "grid_auto_flow": null,
            "grid_auto_rows": null,
            "grid_column": null,
            "grid_gap": null,
            "grid_row": null,
            "grid_template_areas": null,
            "grid_template_columns": null,
            "grid_template_rows": null,
            "height": null,
            "justify_content": null,
            "justify_items": null,
            "left": null,
            "margin": null,
            "max_height": null,
            "max_width": null,
            "min_height": null,
            "min_width": null,
            "object_fit": null,
            "object_position": null,
            "order": null,
            "overflow": null,
            "overflow_x": null,
            "overflow_y": null,
            "padding": null,
            "right": null,
            "top": null,
            "visibility": null,
            "width": null
          }
        },
        "b15f6ae336024498a4f529f9b93a0509": {
          "model_module": "@jupyter-widgets/base",
          "model_name": "LayoutModel",
          "model_module_version": "1.2.0",
          "state": {
            "_model_module": "@jupyter-widgets/base",
            "_model_module_version": "1.2.0",
            "_model_name": "LayoutModel",
            "_view_count": null,
            "_view_module": "@jupyter-widgets/base",
            "_view_module_version": "1.2.0",
            "_view_name": "LayoutView",
            "align_content": null,
            "align_items": null,
            "align_self": null,
            "border": null,
            "bottom": null,
            "display": null,
            "flex": null,
            "flex_flow": null,
            "grid_area": null,
            "grid_auto_columns": null,
            "grid_auto_flow": null,
            "grid_auto_rows": null,
            "grid_column": null,
            "grid_gap": null,
            "grid_row": null,
            "grid_template_areas": null,
            "grid_template_columns": null,
            "grid_template_rows": null,
            "height": null,
            "justify_content": null,
            "justify_items": null,
            "left": null,
            "margin": null,
            "max_height": null,
            "max_width": null,
            "min_height": null,
            "min_width": null,
            "object_fit": null,
            "object_position": null,
            "order": null,
            "overflow": null,
            "overflow_x": null,
            "overflow_y": null,
            "padding": null,
            "right": null,
            "top": null,
            "visibility": null,
            "width": null
          }
        },
        "54bde32c71d84b92ae33a3e8ebb8af13": {
          "model_module": "@jupyter-widgets/controls",
          "model_name": "DescriptionStyleModel",
          "model_module_version": "1.5.0",
          "state": {
            "_model_module": "@jupyter-widgets/controls",
            "_model_module_version": "1.5.0",
            "_model_name": "DescriptionStyleModel",
            "_view_count": null,
            "_view_module": "@jupyter-widgets/base",
            "_view_module_version": "1.2.0",
            "_view_name": "StyleView",
            "description_width": ""
          }
        },
        "24e971e1d3d9405ca22a8a1d1b015431": {
          "model_module": "@jupyter-widgets/base",
          "model_name": "LayoutModel",
          "model_module_version": "1.2.0",
          "state": {
            "_model_module": "@jupyter-widgets/base",
            "_model_module_version": "1.2.0",
            "_model_name": "LayoutModel",
            "_view_count": null,
            "_view_module": "@jupyter-widgets/base",
            "_view_module_version": "1.2.0",
            "_view_name": "LayoutView",
            "align_content": null,
            "align_items": null,
            "align_self": null,
            "border": null,
            "bottom": null,
            "display": null,
            "flex": null,
            "flex_flow": null,
            "grid_area": null,
            "grid_auto_columns": null,
            "grid_auto_flow": null,
            "grid_auto_rows": null,
            "grid_column": null,
            "grid_gap": null,
            "grid_row": null,
            "grid_template_areas": null,
            "grid_template_columns": null,
            "grid_template_rows": null,
            "height": null,
            "justify_content": null,
            "justify_items": null,
            "left": null,
            "margin": null,
            "max_height": null,
            "max_width": null,
            "min_height": null,
            "min_width": null,
            "object_fit": null,
            "object_position": null,
            "order": null,
            "overflow": null,
            "overflow_x": null,
            "overflow_y": null,
            "padding": null,
            "right": null,
            "top": null,
            "visibility": null,
            "width": null
          }
        },
        "9740c5f974b540c8957747249592f9c0": {
          "model_module": "@jupyter-widgets/controls",
          "model_name": "ProgressStyleModel",
          "model_module_version": "1.5.0",
          "state": {
            "_model_module": "@jupyter-widgets/controls",
            "_model_module_version": "1.5.0",
            "_model_name": "ProgressStyleModel",
            "_view_count": null,
            "_view_module": "@jupyter-widgets/base",
            "_view_module_version": "1.2.0",
            "_view_name": "StyleView",
            "bar_color": null,
            "description_width": ""
          }
        },
        "41ea4dde3cd346869c1bccdc2bb87741": {
          "model_module": "@jupyter-widgets/base",
          "model_name": "LayoutModel",
          "model_module_version": "1.2.0",
          "state": {
            "_model_module": "@jupyter-widgets/base",
            "_model_module_version": "1.2.0",
            "_model_name": "LayoutModel",
            "_view_count": null,
            "_view_module": "@jupyter-widgets/base",
            "_view_module_version": "1.2.0",
            "_view_name": "LayoutView",
            "align_content": null,
            "align_items": null,
            "align_self": null,
            "border": null,
            "bottom": null,
            "display": null,
            "flex": null,
            "flex_flow": null,
            "grid_area": null,
            "grid_auto_columns": null,
            "grid_auto_flow": null,
            "grid_auto_rows": null,
            "grid_column": null,
            "grid_gap": null,
            "grid_row": null,
            "grid_template_areas": null,
            "grid_template_columns": null,
            "grid_template_rows": null,
            "height": null,
            "justify_content": null,
            "justify_items": null,
            "left": null,
            "margin": null,
            "max_height": null,
            "max_width": null,
            "min_height": null,
            "min_width": null,
            "object_fit": null,
            "object_position": null,
            "order": null,
            "overflow": null,
            "overflow_x": null,
            "overflow_y": null,
            "padding": null,
            "right": null,
            "top": null,
            "visibility": null,
            "width": null
          }
        },
        "1bed0cb722c242e2b567e91eca63af84": {
          "model_module": "@jupyter-widgets/controls",
          "model_name": "DescriptionStyleModel",
          "model_module_version": "1.5.0",
          "state": {
            "_model_module": "@jupyter-widgets/controls",
            "_model_module_version": "1.5.0",
            "_model_name": "DescriptionStyleModel",
            "_view_count": null,
            "_view_module": "@jupyter-widgets/base",
            "_view_module_version": "1.2.0",
            "_view_name": "StyleView",
            "description_width": ""
          }
        },
        "a8068b13391b404d85e6ada0ef3c8cc5": {
          "model_module": "@jupyter-widgets/controls",
          "model_name": "HBoxModel",
          "model_module_version": "1.5.0",
          "state": {
            "_dom_classes": [],
            "_model_module": "@jupyter-widgets/controls",
            "_model_module_version": "1.5.0",
            "_model_name": "HBoxModel",
            "_view_count": null,
            "_view_module": "@jupyter-widgets/controls",
            "_view_module_version": "1.5.0",
            "_view_name": "HBoxView",
            "box_style": "",
            "children": [
              "IPY_MODEL_d95ac6b64436431eaf4ec16eccb1288e",
              "IPY_MODEL_a537acf09833450e9fab0536edb21f3c",
              "IPY_MODEL_5f3b459b7f624283aa23d06eb6ead2a4"
            ],
            "layout": "IPY_MODEL_a12e27b2f9b847758f65a2939cbd6c34"
          }
        },
        "d95ac6b64436431eaf4ec16eccb1288e": {
          "model_module": "@jupyter-widgets/controls",
          "model_name": "HTMLModel",
          "model_module_version": "1.5.0",
          "state": {
            "_dom_classes": [],
            "_model_module": "@jupyter-widgets/controls",
            "_model_module_version": "1.5.0",
            "_model_name": "HTMLModel",
            "_view_count": null,
            "_view_module": "@jupyter-widgets/controls",
            "_view_module_version": "1.5.0",
            "_view_name": "HTMLView",
            "description": "",
            "description_tooltip": null,
            "layout": "IPY_MODEL_24b011d8e9f24b7a89588215ea30e15e",
            "placeholder": "​",
            "style": "IPY_MODEL_e5d47a3961b047aabd3d6079045606a4",
            "value": "100%"
          }
        },
        "a537acf09833450e9fab0536edb21f3c": {
          "model_module": "@jupyter-widgets/controls",
          "model_name": "FloatProgressModel",
          "model_module_version": "1.5.0",
          "state": {
            "_dom_classes": [],
            "_model_module": "@jupyter-widgets/controls",
            "_model_module_version": "1.5.0",
            "_model_name": "FloatProgressModel",
            "_view_count": null,
            "_view_module": "@jupyter-widgets/controls",
            "_view_module_version": "1.5.0",
            "_view_name": "ProgressView",
            "bar_style": "success",
            "description": "",
            "description_tooltip": null,
            "layout": "IPY_MODEL_c4386655b95040f09c4beecf383c065e",
            "max": 28881,
            "min": 0,
            "orientation": "horizontal",
            "style": "IPY_MODEL_8d5a6a92d9c04bf4af7d0ec20a0678c3",
            "value": 28881
          }
        },
        "5f3b459b7f624283aa23d06eb6ead2a4": {
          "model_module": "@jupyter-widgets/controls",
          "model_name": "HTMLModel",
          "model_module_version": "1.5.0",
          "state": {
            "_dom_classes": [],
            "_model_module": "@jupyter-widgets/controls",
            "_model_module_version": "1.5.0",
            "_model_name": "HTMLModel",
            "_view_count": null,
            "_view_module": "@jupyter-widgets/controls",
            "_view_module_version": "1.5.0",
            "_view_name": "HTMLView",
            "description": "",
            "description_tooltip": null,
            "layout": "IPY_MODEL_ee38899bb00f4a5694c580ee1d906c66",
            "placeholder": "​",
            "style": "IPY_MODEL_bad861f43d18435a9a607f8bd074e519",
            "value": " 28881/28881 [00:00&lt;00:00, 1492995.63it/s]"
          }
        },
        "a12e27b2f9b847758f65a2939cbd6c34": {
          "model_module": "@jupyter-widgets/base",
          "model_name": "LayoutModel",
          "model_module_version": "1.2.0",
          "state": {
            "_model_module": "@jupyter-widgets/base",
            "_model_module_version": "1.2.0",
            "_model_name": "LayoutModel",
            "_view_count": null,
            "_view_module": "@jupyter-widgets/base",
            "_view_module_version": "1.2.0",
            "_view_name": "LayoutView",
            "align_content": null,
            "align_items": null,
            "align_self": null,
            "border": null,
            "bottom": null,
            "display": null,
            "flex": null,
            "flex_flow": null,
            "grid_area": null,
            "grid_auto_columns": null,
            "grid_auto_flow": null,
            "grid_auto_rows": null,
            "grid_column": null,
            "grid_gap": null,
            "grid_row": null,
            "grid_template_areas": null,
            "grid_template_columns": null,
            "grid_template_rows": null,
            "height": null,
            "justify_content": null,
            "justify_items": null,
            "left": null,
            "margin": null,
            "max_height": null,
            "max_width": null,
            "min_height": null,
            "min_width": null,
            "object_fit": null,
            "object_position": null,
            "order": null,
            "overflow": null,
            "overflow_x": null,
            "overflow_y": null,
            "padding": null,
            "right": null,
            "top": null,
            "visibility": null,
            "width": null
          }
        },
        "24b011d8e9f24b7a89588215ea30e15e": {
          "model_module": "@jupyter-widgets/base",
          "model_name": "LayoutModel",
          "model_module_version": "1.2.0",
          "state": {
            "_model_module": "@jupyter-widgets/base",
            "_model_module_version": "1.2.0",
            "_model_name": "LayoutModel",
            "_view_count": null,
            "_view_module": "@jupyter-widgets/base",
            "_view_module_version": "1.2.0",
            "_view_name": "LayoutView",
            "align_content": null,
            "align_items": null,
            "align_self": null,
            "border": null,
            "bottom": null,
            "display": null,
            "flex": null,
            "flex_flow": null,
            "grid_area": null,
            "grid_auto_columns": null,
            "grid_auto_flow": null,
            "grid_auto_rows": null,
            "grid_column": null,
            "grid_gap": null,
            "grid_row": null,
            "grid_template_areas": null,
            "grid_template_columns": null,
            "grid_template_rows": null,
            "height": null,
            "justify_content": null,
            "justify_items": null,
            "left": null,
            "margin": null,
            "max_height": null,
            "max_width": null,
            "min_height": null,
            "min_width": null,
            "object_fit": null,
            "object_position": null,
            "order": null,
            "overflow": null,
            "overflow_x": null,
            "overflow_y": null,
            "padding": null,
            "right": null,
            "top": null,
            "visibility": null,
            "width": null
          }
        },
        "e5d47a3961b047aabd3d6079045606a4": {
          "model_module": "@jupyter-widgets/controls",
          "model_name": "DescriptionStyleModel",
          "model_module_version": "1.5.0",
          "state": {
            "_model_module": "@jupyter-widgets/controls",
            "_model_module_version": "1.5.0",
            "_model_name": "DescriptionStyleModel",
            "_view_count": null,
            "_view_module": "@jupyter-widgets/base",
            "_view_module_version": "1.2.0",
            "_view_name": "StyleView",
            "description_width": ""
          }
        },
        "c4386655b95040f09c4beecf383c065e": {
          "model_module": "@jupyter-widgets/base",
          "model_name": "LayoutModel",
          "model_module_version": "1.2.0",
          "state": {
            "_model_module": "@jupyter-widgets/base",
            "_model_module_version": "1.2.0",
            "_model_name": "LayoutModel",
            "_view_count": null,
            "_view_module": "@jupyter-widgets/base",
            "_view_module_version": "1.2.0",
            "_view_name": "LayoutView",
            "align_content": null,
            "align_items": null,
            "align_self": null,
            "border": null,
            "bottom": null,
            "display": null,
            "flex": null,
            "flex_flow": null,
            "grid_area": null,
            "grid_auto_columns": null,
            "grid_auto_flow": null,
            "grid_auto_rows": null,
            "grid_column": null,
            "grid_gap": null,
            "grid_row": null,
            "grid_template_areas": null,
            "grid_template_columns": null,
            "grid_template_rows": null,
            "height": null,
            "justify_content": null,
            "justify_items": null,
            "left": null,
            "margin": null,
            "max_height": null,
            "max_width": null,
            "min_height": null,
            "min_width": null,
            "object_fit": null,
            "object_position": null,
            "order": null,
            "overflow": null,
            "overflow_x": null,
            "overflow_y": null,
            "padding": null,
            "right": null,
            "top": null,
            "visibility": null,
            "width": null
          }
        },
        "8d5a6a92d9c04bf4af7d0ec20a0678c3": {
          "model_module": "@jupyter-widgets/controls",
          "model_name": "ProgressStyleModel",
          "model_module_version": "1.5.0",
          "state": {
            "_model_module": "@jupyter-widgets/controls",
            "_model_module_version": "1.5.0",
            "_model_name": "ProgressStyleModel",
            "_view_count": null,
            "_view_module": "@jupyter-widgets/base",
            "_view_module_version": "1.2.0",
            "_view_name": "StyleView",
            "bar_color": null,
            "description_width": ""
          }
        },
        "ee38899bb00f4a5694c580ee1d906c66": {
          "model_module": "@jupyter-widgets/base",
          "model_name": "LayoutModel",
          "model_module_version": "1.2.0",
          "state": {
            "_model_module": "@jupyter-widgets/base",
            "_model_module_version": "1.2.0",
            "_model_name": "LayoutModel",
            "_view_count": null,
            "_view_module": "@jupyter-widgets/base",
            "_view_module_version": "1.2.0",
            "_view_name": "LayoutView",
            "align_content": null,
            "align_items": null,
            "align_self": null,
            "border": null,
            "bottom": null,
            "display": null,
            "flex": null,
            "flex_flow": null,
            "grid_area": null,
            "grid_auto_columns": null,
            "grid_auto_flow": null,
            "grid_auto_rows": null,
            "grid_column": null,
            "grid_gap": null,
            "grid_row": null,
            "grid_template_areas": null,
            "grid_template_columns": null,
            "grid_template_rows": null,
            "height": null,
            "justify_content": null,
            "justify_items": null,
            "left": null,
            "margin": null,
            "max_height": null,
            "max_width": null,
            "min_height": null,
            "min_width": null,
            "object_fit": null,
            "object_position": null,
            "order": null,
            "overflow": null,
            "overflow_x": null,
            "overflow_y": null,
            "padding": null,
            "right": null,
            "top": null,
            "visibility": null,
            "width": null
          }
        },
        "bad861f43d18435a9a607f8bd074e519": {
          "model_module": "@jupyter-widgets/controls",
          "model_name": "DescriptionStyleModel",
          "model_module_version": "1.5.0",
          "state": {
            "_model_module": "@jupyter-widgets/controls",
            "_model_module_version": "1.5.0",
            "_model_name": "DescriptionStyleModel",
            "_view_count": null,
            "_view_module": "@jupyter-widgets/base",
            "_view_module_version": "1.2.0",
            "_view_name": "StyleView",
            "description_width": ""
          }
        },
        "b5d056f850ea48799d512f740a1537f9": {
          "model_module": "@jupyter-widgets/controls",
          "model_name": "HBoxModel",
          "model_module_version": "1.5.0",
          "state": {
            "_dom_classes": [],
            "_model_module": "@jupyter-widgets/controls",
            "_model_module_version": "1.5.0",
            "_model_name": "HBoxModel",
            "_view_count": null,
            "_view_module": "@jupyter-widgets/controls",
            "_view_module_version": "1.5.0",
            "_view_name": "HBoxView",
            "box_style": "",
            "children": [
              "IPY_MODEL_d936fffacfe84a0dba9823ca60e04d03",
              "IPY_MODEL_b99bdc4f56ea4259a09d8d2a4db322e4",
              "IPY_MODEL_4c942a80762741d6bd1bec7de796e6ab"
            ],
            "layout": "IPY_MODEL_ea778475e4bc4ffa9b768b0a88059941"
          }
        },
        "d936fffacfe84a0dba9823ca60e04d03": {
          "model_module": "@jupyter-widgets/controls",
          "model_name": "HTMLModel",
          "model_module_version": "1.5.0",
          "state": {
            "_dom_classes": [],
            "_model_module": "@jupyter-widgets/controls",
            "_model_module_version": "1.5.0",
            "_model_name": "HTMLModel",
            "_view_count": null,
            "_view_module": "@jupyter-widgets/controls",
            "_view_module_version": "1.5.0",
            "_view_name": "HTMLView",
            "description": "",
            "description_tooltip": null,
            "layout": "IPY_MODEL_809525e7002d451fa7173902759581ba",
            "placeholder": "​",
            "style": "IPY_MODEL_e5e5e85b46bc40a2ad78c8aa0b392192",
            "value": "100%"
          }
        },
        "b99bdc4f56ea4259a09d8d2a4db322e4": {
          "model_module": "@jupyter-widgets/controls",
          "model_name": "FloatProgressModel",
          "model_module_version": "1.5.0",
          "state": {
            "_dom_classes": [],
            "_model_module": "@jupyter-widgets/controls",
            "_model_module_version": "1.5.0",
            "_model_name": "FloatProgressModel",
            "_view_count": null,
            "_view_module": "@jupyter-widgets/controls",
            "_view_module_version": "1.5.0",
            "_view_name": "ProgressView",
            "bar_style": "success",
            "description": "",
            "description_tooltip": null,
            "layout": "IPY_MODEL_fdc46e19727e4b3ca53be89dbc904e7f",
            "max": 1648877,
            "min": 0,
            "orientation": "horizontal",
            "style": "IPY_MODEL_c332d014d127477fa97a1a007a26b6a7",
            "value": 1648877
          }
        },
        "4c942a80762741d6bd1bec7de796e6ab": {
          "model_module": "@jupyter-widgets/controls",
          "model_name": "HTMLModel",
          "model_module_version": "1.5.0",
          "state": {
            "_dom_classes": [],
            "_model_module": "@jupyter-widgets/controls",
            "_model_module_version": "1.5.0",
            "_model_name": "HTMLModel",
            "_view_count": null,
            "_view_module": "@jupyter-widgets/controls",
            "_view_module_version": "1.5.0",
            "_view_name": "HTMLView",
            "description": "",
            "description_tooltip": null,
            "layout": "IPY_MODEL_f9dd75950dc74834a7d150da2af3c7ff",
            "placeholder": "​",
            "style": "IPY_MODEL_3402eaf5dca14c2399ec59008797cd3f",
            "value": " 1648877/1648877 [00:00&lt;00:00, 66598212.69it/s]"
          }
        },
        "ea778475e4bc4ffa9b768b0a88059941": {
          "model_module": "@jupyter-widgets/base",
          "model_name": "LayoutModel",
          "model_module_version": "1.2.0",
          "state": {
            "_model_module": "@jupyter-widgets/base",
            "_model_module_version": "1.2.0",
            "_model_name": "LayoutModel",
            "_view_count": null,
            "_view_module": "@jupyter-widgets/base",
            "_view_module_version": "1.2.0",
            "_view_name": "LayoutView",
            "align_content": null,
            "align_items": null,
            "align_self": null,
            "border": null,
            "bottom": null,
            "display": null,
            "flex": null,
            "flex_flow": null,
            "grid_area": null,
            "grid_auto_columns": null,
            "grid_auto_flow": null,
            "grid_auto_rows": null,
            "grid_column": null,
            "grid_gap": null,
            "grid_row": null,
            "grid_template_areas": null,
            "grid_template_columns": null,
            "grid_template_rows": null,
            "height": null,
            "justify_content": null,
            "justify_items": null,
            "left": null,
            "margin": null,
            "max_height": null,
            "max_width": null,
            "min_height": null,
            "min_width": null,
            "object_fit": null,
            "object_position": null,
            "order": null,
            "overflow": null,
            "overflow_x": null,
            "overflow_y": null,
            "padding": null,
            "right": null,
            "top": null,
            "visibility": null,
            "width": null
          }
        },
        "809525e7002d451fa7173902759581ba": {
          "model_module": "@jupyter-widgets/base",
          "model_name": "LayoutModel",
          "model_module_version": "1.2.0",
          "state": {
            "_model_module": "@jupyter-widgets/base",
            "_model_module_version": "1.2.0",
            "_model_name": "LayoutModel",
            "_view_count": null,
            "_view_module": "@jupyter-widgets/base",
            "_view_module_version": "1.2.0",
            "_view_name": "LayoutView",
            "align_content": null,
            "align_items": null,
            "align_self": null,
            "border": null,
            "bottom": null,
            "display": null,
            "flex": null,
            "flex_flow": null,
            "grid_area": null,
            "grid_auto_columns": null,
            "grid_auto_flow": null,
            "grid_auto_rows": null,
            "grid_column": null,
            "grid_gap": null,
            "grid_row": null,
            "grid_template_areas": null,
            "grid_template_columns": null,
            "grid_template_rows": null,
            "height": null,
            "justify_content": null,
            "justify_items": null,
            "left": null,
            "margin": null,
            "max_height": null,
            "max_width": null,
            "min_height": null,
            "min_width": null,
            "object_fit": null,
            "object_position": null,
            "order": null,
            "overflow": null,
            "overflow_x": null,
            "overflow_y": null,
            "padding": null,
            "right": null,
            "top": null,
            "visibility": null,
            "width": null
          }
        },
        "e5e5e85b46bc40a2ad78c8aa0b392192": {
          "model_module": "@jupyter-widgets/controls",
          "model_name": "DescriptionStyleModel",
          "model_module_version": "1.5.0",
          "state": {
            "_model_module": "@jupyter-widgets/controls",
            "_model_module_version": "1.5.0",
            "_model_name": "DescriptionStyleModel",
            "_view_count": null,
            "_view_module": "@jupyter-widgets/base",
            "_view_module_version": "1.2.0",
            "_view_name": "StyleView",
            "description_width": ""
          }
        },
        "fdc46e19727e4b3ca53be89dbc904e7f": {
          "model_module": "@jupyter-widgets/base",
          "model_name": "LayoutModel",
          "model_module_version": "1.2.0",
          "state": {
            "_model_module": "@jupyter-widgets/base",
            "_model_module_version": "1.2.0",
            "_model_name": "LayoutModel",
            "_view_count": null,
            "_view_module": "@jupyter-widgets/base",
            "_view_module_version": "1.2.0",
            "_view_name": "LayoutView",
            "align_content": null,
            "align_items": null,
            "align_self": null,
            "border": null,
            "bottom": null,
            "display": null,
            "flex": null,
            "flex_flow": null,
            "grid_area": null,
            "grid_auto_columns": null,
            "grid_auto_flow": null,
            "grid_auto_rows": null,
            "grid_column": null,
            "grid_gap": null,
            "grid_row": null,
            "grid_template_areas": null,
            "grid_template_columns": null,
            "grid_template_rows": null,
            "height": null,
            "justify_content": null,
            "justify_items": null,
            "left": null,
            "margin": null,
            "max_height": null,
            "max_width": null,
            "min_height": null,
            "min_width": null,
            "object_fit": null,
            "object_position": null,
            "order": null,
            "overflow": null,
            "overflow_x": null,
            "overflow_y": null,
            "padding": null,
            "right": null,
            "top": null,
            "visibility": null,
            "width": null
          }
        },
        "c332d014d127477fa97a1a007a26b6a7": {
          "model_module": "@jupyter-widgets/controls",
          "model_name": "ProgressStyleModel",
          "model_module_version": "1.5.0",
          "state": {
            "_model_module": "@jupyter-widgets/controls",
            "_model_module_version": "1.5.0",
            "_model_name": "ProgressStyleModel",
            "_view_count": null,
            "_view_module": "@jupyter-widgets/base",
            "_view_module_version": "1.2.0",
            "_view_name": "StyleView",
            "bar_color": null,
            "description_width": ""
          }
        },
        "f9dd75950dc74834a7d150da2af3c7ff": {
          "model_module": "@jupyter-widgets/base",
          "model_name": "LayoutModel",
          "model_module_version": "1.2.0",
          "state": {
            "_model_module": "@jupyter-widgets/base",
            "_model_module_version": "1.2.0",
            "_model_name": "LayoutModel",
            "_view_count": null,
            "_view_module": "@jupyter-widgets/base",
            "_view_module_version": "1.2.0",
            "_view_name": "LayoutView",
            "align_content": null,
            "align_items": null,
            "align_self": null,
            "border": null,
            "bottom": null,
            "display": null,
            "flex": null,
            "flex_flow": null,
            "grid_area": null,
            "grid_auto_columns": null,
            "grid_auto_flow": null,
            "grid_auto_rows": null,
            "grid_column": null,
            "grid_gap": null,
            "grid_row": null,
            "grid_template_areas": null,
            "grid_template_columns": null,
            "grid_template_rows": null,
            "height": null,
            "justify_content": null,
            "justify_items": null,
            "left": null,
            "margin": null,
            "max_height": null,
            "max_width": null,
            "min_height": null,
            "min_width": null,
            "object_fit": null,
            "object_position": null,
            "order": null,
            "overflow": null,
            "overflow_x": null,
            "overflow_y": null,
            "padding": null,
            "right": null,
            "top": null,
            "visibility": null,
            "width": null
          }
        },
        "3402eaf5dca14c2399ec59008797cd3f": {
          "model_module": "@jupyter-widgets/controls",
          "model_name": "DescriptionStyleModel",
          "model_module_version": "1.5.0",
          "state": {
            "_model_module": "@jupyter-widgets/controls",
            "_model_module_version": "1.5.0",
            "_model_name": "DescriptionStyleModel",
            "_view_count": null,
            "_view_module": "@jupyter-widgets/base",
            "_view_module_version": "1.2.0",
            "_view_name": "StyleView",
            "description_width": ""
          }
        },
        "1ff831ad9cea471a8372ffe5c54e8fe2": {
          "model_module": "@jupyter-widgets/controls",
          "model_name": "HBoxModel",
          "model_module_version": "1.5.0",
          "state": {
            "_dom_classes": [],
            "_model_module": "@jupyter-widgets/controls",
            "_model_module_version": "1.5.0",
            "_model_name": "HBoxModel",
            "_view_count": null,
            "_view_module": "@jupyter-widgets/controls",
            "_view_module_version": "1.5.0",
            "_view_name": "HBoxView",
            "box_style": "",
            "children": [
              "IPY_MODEL_d31ec7e0ff3143e182f6d41ebab722b8",
              "IPY_MODEL_ae6f04dd80ed434eb3232f221f4f2c2f",
              "IPY_MODEL_2c585865aa48424da511efdb463e041c"
            ],
            "layout": "IPY_MODEL_4066dc9b5e6c45d89b6c37c46f286c51"
          }
        },
        "d31ec7e0ff3143e182f6d41ebab722b8": {
          "model_module": "@jupyter-widgets/controls",
          "model_name": "HTMLModel",
          "model_module_version": "1.5.0",
          "state": {
            "_dom_classes": [],
            "_model_module": "@jupyter-widgets/controls",
            "_model_module_version": "1.5.0",
            "_model_name": "HTMLModel",
            "_view_count": null,
            "_view_module": "@jupyter-widgets/controls",
            "_view_module_version": "1.5.0",
            "_view_name": "HTMLView",
            "description": "",
            "description_tooltip": null,
            "layout": "IPY_MODEL_9c5aec3acc284fa78a9d3c60f0ab2ebd",
            "placeholder": "​",
            "style": "IPY_MODEL_5b37d1436b9f4cc7aedd005bf2d0184c",
            "value": "100%"
          }
        },
        "ae6f04dd80ed434eb3232f221f4f2c2f": {
          "model_module": "@jupyter-widgets/controls",
          "model_name": "FloatProgressModel",
          "model_module_version": "1.5.0",
          "state": {
            "_dom_classes": [],
            "_model_module": "@jupyter-widgets/controls",
            "_model_module_version": "1.5.0",
            "_model_name": "FloatProgressModel",
            "_view_count": null,
            "_view_module": "@jupyter-widgets/controls",
            "_view_module_version": "1.5.0",
            "_view_name": "ProgressView",
            "bar_style": "success",
            "description": "",
            "description_tooltip": null,
            "layout": "IPY_MODEL_cfc141b27fdf493c90e13d7b4e5686a1",
            "max": 4542,
            "min": 0,
            "orientation": "horizontal",
            "style": "IPY_MODEL_90d64d295bb941a481c14a9d588a2c72",
            "value": 4542
          }
        },
        "2c585865aa48424da511efdb463e041c": {
          "model_module": "@jupyter-widgets/controls",
          "model_name": "HTMLModel",
          "model_module_version": "1.5.0",
          "state": {
            "_dom_classes": [],
            "_model_module": "@jupyter-widgets/controls",
            "_model_module_version": "1.5.0",
            "_model_name": "HTMLModel",
            "_view_count": null,
            "_view_module": "@jupyter-widgets/controls",
            "_view_module_version": "1.5.0",
            "_view_name": "HTMLView",
            "description": "",
            "description_tooltip": null,
            "layout": "IPY_MODEL_f86d759e0d744da18edf55fdfb0bdf75",
            "placeholder": "​",
            "style": "IPY_MODEL_dce8d06faa0a4cf58fb4662045d4fcbc",
            "value": " 4542/4542 [00:00&lt;00:00, 283405.66it/s]"
          }
        },
        "4066dc9b5e6c45d89b6c37c46f286c51": {
          "model_module": "@jupyter-widgets/base",
          "model_name": "LayoutModel",
          "model_module_version": "1.2.0",
          "state": {
            "_model_module": "@jupyter-widgets/base",
            "_model_module_version": "1.2.0",
            "_model_name": "LayoutModel",
            "_view_count": null,
            "_view_module": "@jupyter-widgets/base",
            "_view_module_version": "1.2.0",
            "_view_name": "LayoutView",
            "align_content": null,
            "align_items": null,
            "align_self": null,
            "border": null,
            "bottom": null,
            "display": null,
            "flex": null,
            "flex_flow": null,
            "grid_area": null,
            "grid_auto_columns": null,
            "grid_auto_flow": null,
            "grid_auto_rows": null,
            "grid_column": null,
            "grid_gap": null,
            "grid_row": null,
            "grid_template_areas": null,
            "grid_template_columns": null,
            "grid_template_rows": null,
            "height": null,
            "justify_content": null,
            "justify_items": null,
            "left": null,
            "margin": null,
            "max_height": null,
            "max_width": null,
            "min_height": null,
            "min_width": null,
            "object_fit": null,
            "object_position": null,
            "order": null,
            "overflow": null,
            "overflow_x": null,
            "overflow_y": null,
            "padding": null,
            "right": null,
            "top": null,
            "visibility": null,
            "width": null
          }
        },
        "9c5aec3acc284fa78a9d3c60f0ab2ebd": {
          "model_module": "@jupyter-widgets/base",
          "model_name": "LayoutModel",
          "model_module_version": "1.2.0",
          "state": {
            "_model_module": "@jupyter-widgets/base",
            "_model_module_version": "1.2.0",
            "_model_name": "LayoutModel",
            "_view_count": null,
            "_view_module": "@jupyter-widgets/base",
            "_view_module_version": "1.2.0",
            "_view_name": "LayoutView",
            "align_content": null,
            "align_items": null,
            "align_self": null,
            "border": null,
            "bottom": null,
            "display": null,
            "flex": null,
            "flex_flow": null,
            "grid_area": null,
            "grid_auto_columns": null,
            "grid_auto_flow": null,
            "grid_auto_rows": null,
            "grid_column": null,
            "grid_gap": null,
            "grid_row": null,
            "grid_template_areas": null,
            "grid_template_columns": null,
            "grid_template_rows": null,
            "height": null,
            "justify_content": null,
            "justify_items": null,
            "left": null,
            "margin": null,
            "max_height": null,
            "max_width": null,
            "min_height": null,
            "min_width": null,
            "object_fit": null,
            "object_position": null,
            "order": null,
            "overflow": null,
            "overflow_x": null,
            "overflow_y": null,
            "padding": null,
            "right": null,
            "top": null,
            "visibility": null,
            "width": null
          }
        },
        "5b37d1436b9f4cc7aedd005bf2d0184c": {
          "model_module": "@jupyter-widgets/controls",
          "model_name": "DescriptionStyleModel",
          "model_module_version": "1.5.0",
          "state": {
            "_model_module": "@jupyter-widgets/controls",
            "_model_module_version": "1.5.0",
            "_model_name": "DescriptionStyleModel",
            "_view_count": null,
            "_view_module": "@jupyter-widgets/base",
            "_view_module_version": "1.2.0",
            "_view_name": "StyleView",
            "description_width": ""
          }
        },
        "cfc141b27fdf493c90e13d7b4e5686a1": {
          "model_module": "@jupyter-widgets/base",
          "model_name": "LayoutModel",
          "model_module_version": "1.2.0",
          "state": {
            "_model_module": "@jupyter-widgets/base",
            "_model_module_version": "1.2.0",
            "_model_name": "LayoutModel",
            "_view_count": null,
            "_view_module": "@jupyter-widgets/base",
            "_view_module_version": "1.2.0",
            "_view_name": "LayoutView",
            "align_content": null,
            "align_items": null,
            "align_self": null,
            "border": null,
            "bottom": null,
            "display": null,
            "flex": null,
            "flex_flow": null,
            "grid_area": null,
            "grid_auto_columns": null,
            "grid_auto_flow": null,
            "grid_auto_rows": null,
            "grid_column": null,
            "grid_gap": null,
            "grid_row": null,
            "grid_template_areas": null,
            "grid_template_columns": null,
            "grid_template_rows": null,
            "height": null,
            "justify_content": null,
            "justify_items": null,
            "left": null,
            "margin": null,
            "max_height": null,
            "max_width": null,
            "min_height": null,
            "min_width": null,
            "object_fit": null,
            "object_position": null,
            "order": null,
            "overflow": null,
            "overflow_x": null,
            "overflow_y": null,
            "padding": null,
            "right": null,
            "top": null,
            "visibility": null,
            "width": null
          }
        },
        "90d64d295bb941a481c14a9d588a2c72": {
          "model_module": "@jupyter-widgets/controls",
          "model_name": "ProgressStyleModel",
          "model_module_version": "1.5.0",
          "state": {
            "_model_module": "@jupyter-widgets/controls",
            "_model_module_version": "1.5.0",
            "_model_name": "ProgressStyleModel",
            "_view_count": null,
            "_view_module": "@jupyter-widgets/base",
            "_view_module_version": "1.2.0",
            "_view_name": "StyleView",
            "bar_color": null,
            "description_width": ""
          }
        },
        "f86d759e0d744da18edf55fdfb0bdf75": {
          "model_module": "@jupyter-widgets/base",
          "model_name": "LayoutModel",
          "model_module_version": "1.2.0",
          "state": {
            "_model_module": "@jupyter-widgets/base",
            "_model_module_version": "1.2.0",
            "_model_name": "LayoutModel",
            "_view_count": null,
            "_view_module": "@jupyter-widgets/base",
            "_view_module_version": "1.2.0",
            "_view_name": "LayoutView",
            "align_content": null,
            "align_items": null,
            "align_self": null,
            "border": null,
            "bottom": null,
            "display": null,
            "flex": null,
            "flex_flow": null,
            "grid_area": null,
            "grid_auto_columns": null,
            "grid_auto_flow": null,
            "grid_auto_rows": null,
            "grid_column": null,
            "grid_gap": null,
            "grid_row": null,
            "grid_template_areas": null,
            "grid_template_columns": null,
            "grid_template_rows": null,
            "height": null,
            "justify_content": null,
            "justify_items": null,
            "left": null,
            "margin": null,
            "max_height": null,
            "max_width": null,
            "min_height": null,
            "min_width": null,
            "object_fit": null,
            "object_position": null,
            "order": null,
            "overflow": null,
            "overflow_x": null,
            "overflow_y": null,
            "padding": null,
            "right": null,
            "top": null,
            "visibility": null,
            "width": null
          }
        },
        "dce8d06faa0a4cf58fb4662045d4fcbc": {
          "model_module": "@jupyter-widgets/controls",
          "model_name": "DescriptionStyleModel",
          "model_module_version": "1.5.0",
          "state": {
            "_model_module": "@jupyter-widgets/controls",
            "_model_module_version": "1.5.0",
            "_model_name": "DescriptionStyleModel",
            "_view_count": null,
            "_view_module": "@jupyter-widgets/base",
            "_view_module_version": "1.2.0",
            "_view_name": "StyleView",
            "description_width": ""
          }
        }
      }
    }
  },
  "cells": [
    {
      "cell_type": "markdown",
      "metadata": {
        "id": "view-in-github",
        "colab_type": "text"
      },
      "source": [
        "<a href=\"https://colab.research.google.com/github/Ramubala/image-classification/blob/main/Image_classification.ipynb\" target=\"_parent\"><img src=\"https://colab.research.google.com/assets/colab-badge.svg\" alt=\"Open In Colab\"/></a>"
      ]
    },
    {
      "cell_type": "code",
      "execution_count": 18,
      "metadata": {
        "colab": {
          "base_uri": "https://localhost:8080/"
        },
        "id": "djIfCzg_O1dY",
        "outputId": "66bc1403-9a37-45d9-d69a-9b1e743a50be"
      },
      "outputs": [
        {
          "output_type": "stream",
          "name": "stdout",
          "text": [
            "Cloning into 'image-classification'...\n",
            "remote: Enumerating objects: 7, done.\u001b[K\n",
            "remote: Counting objects: 100% (7/7), done.\u001b[K\n",
            "remote: Compressing objects: 100% (7/7), done.\u001b[K\n",
            "remote: Total 7 (delta 0), reused 0 (delta 0), pack-reused 0\u001b[K\n",
            "Unpacking objects: 100% (7/7), 5.28 KiB | 5.28 MiB/s, done.\n"
          ]
        }
      ],
      "source": [
        "! git clone https://github.com/Ramubala/image-classification.git"
      ]
    },
    {
      "cell_type": "code",
      "source": [
        "%ls\n",
        "%cd image-classification"
      ],
      "metadata": {
        "colab": {
          "base_uri": "https://localhost:8080/"
        },
        "id": "Rw0VDgeaPcUa",
        "outputId": "4628f739-1bc9-41a2-ee9d-50a65e5046d1"
      },
      "execution_count": 19,
      "outputs": [
        {
          "output_type": "stream",
          "name": "stdout",
          "text": [
            "\u001b[0m\u001b[01;34mdata\u001b[0m/                  Image_classification.ipynb  tut1-model.pt\n",
            "\u001b[01;34mimage-classification\u001b[0m/  README.md\n",
            "/content/image-classification/image-classification\n"
          ]
        }
      ]
    },
    {
      "cell_type": "code",
      "source": [
        "import torchvision.datasets as datasets\n",
        "import torch\n",
        "import torch.nn as nn\n",
        "import torch.optim as optim\n",
        "from torch.utils.data import DataLoader\n",
        "from torchvision.transforms import ToTensor\n",
        "from torchvision import datasets, transforms\n",
        "import numpy as np"
      ],
      "metadata": {
        "id": "zclKEyMbPjHp"
      },
      "execution_count": 20,
      "outputs": []
    },
    {
      "cell_type": "code",
      "source": [
        "dir = 'data'\n",
        "#!rm -rf data\n",
        "data = datasets.MNIST(root=dir, train=True, download =True, transform=transforms.Compose([\n",
        "                                                              transforms.ToTensor(), # first, convert image to PyTorch tensor\n",
        "                                                              transforms.Normalize((0.1307,), (0.3081,)) # normalize inputs\n",
        "                                                          ]))\n",
        "test_data = datasets.MNIST(root=dir, train=False, download =True, transform=transforms.Compose([\n",
        "                                                              transforms.ToTensor(), # first, convert image to PyTorch tensor\n",
        "                                                              transforms.Normalize((0.1307,), (0.3081,)) # normalize inputs\n",
        "                                                          ]))"
      ],
      "metadata": {
        "id": "ydvOBJMMTRgo",
        "colab": {
          "base_uri": "https://localhost:8080/",
          "height": 417,
          "referenced_widgets": [
            "3e17d10a722f4daeb7adb177109380d8",
            "038f9a00e1c34f31a75f2c0464ccb987",
            "84c0bc2f5fe34b41b467c7c024e50cfd",
            "7ac9d1a86a764e5285c111278d5d94ed",
            "6b5aaacbd8284c768e867a7b608ed507",
            "b15f6ae336024498a4f529f9b93a0509",
            "54bde32c71d84b92ae33a3e8ebb8af13",
            "24e971e1d3d9405ca22a8a1d1b015431",
            "9740c5f974b540c8957747249592f9c0",
            "41ea4dde3cd346869c1bccdc2bb87741",
            "1bed0cb722c242e2b567e91eca63af84",
            "a8068b13391b404d85e6ada0ef3c8cc5",
            "d95ac6b64436431eaf4ec16eccb1288e",
            "a537acf09833450e9fab0536edb21f3c",
            "5f3b459b7f624283aa23d06eb6ead2a4",
            "a12e27b2f9b847758f65a2939cbd6c34",
            "24b011d8e9f24b7a89588215ea30e15e",
            "e5d47a3961b047aabd3d6079045606a4",
            "c4386655b95040f09c4beecf383c065e",
            "8d5a6a92d9c04bf4af7d0ec20a0678c3",
            "ee38899bb00f4a5694c580ee1d906c66",
            "bad861f43d18435a9a607f8bd074e519",
            "b5d056f850ea48799d512f740a1537f9",
            "d936fffacfe84a0dba9823ca60e04d03",
            "b99bdc4f56ea4259a09d8d2a4db322e4",
            "4c942a80762741d6bd1bec7de796e6ab",
            "ea778475e4bc4ffa9b768b0a88059941",
            "809525e7002d451fa7173902759581ba",
            "e5e5e85b46bc40a2ad78c8aa0b392192",
            "fdc46e19727e4b3ca53be89dbc904e7f",
            "c332d014d127477fa97a1a007a26b6a7",
            "f9dd75950dc74834a7d150da2af3c7ff",
            "3402eaf5dca14c2399ec59008797cd3f",
            "1ff831ad9cea471a8372ffe5c54e8fe2",
            "d31ec7e0ff3143e182f6d41ebab722b8",
            "ae6f04dd80ed434eb3232f221f4f2c2f",
            "2c585865aa48424da511efdb463e041c",
            "4066dc9b5e6c45d89b6c37c46f286c51",
            "9c5aec3acc284fa78a9d3c60f0ab2ebd",
            "5b37d1436b9f4cc7aedd005bf2d0184c",
            "cfc141b27fdf493c90e13d7b4e5686a1",
            "90d64d295bb941a481c14a9d588a2c72",
            "f86d759e0d744da18edf55fdfb0bdf75",
            "dce8d06faa0a4cf58fb4662045d4fcbc"
          ]
        },
        "outputId": "9199d5e4-623d-4e62-c0b7-69ea049c0642"
      },
      "execution_count": 21,
      "outputs": [
        {
          "output_type": "stream",
          "name": "stdout",
          "text": [
            "Downloading http://yann.lecun.com/exdb/mnist/train-images-idx3-ubyte.gz\n",
            "Downloading http://yann.lecun.com/exdb/mnist/train-images-idx3-ubyte.gz to data/MNIST/raw/train-images-idx3-ubyte.gz\n"
          ]
        },
        {
          "output_type": "display_data",
          "data": {
            "text/plain": [
              "  0%|          | 0/9912422 [00:00<?, ?it/s]"
            ],
            "application/vnd.jupyter.widget-view+json": {
              "version_major": 2,
              "version_minor": 0,
              "model_id": "3e17d10a722f4daeb7adb177109380d8"
            }
          },
          "metadata": {}
        },
        {
          "output_type": "stream",
          "name": "stdout",
          "text": [
            "Extracting data/MNIST/raw/train-images-idx3-ubyte.gz to data/MNIST/raw\n",
            "\n",
            "Downloading http://yann.lecun.com/exdb/mnist/train-labels-idx1-ubyte.gz\n",
            "Downloading http://yann.lecun.com/exdb/mnist/train-labels-idx1-ubyte.gz to data/MNIST/raw/train-labels-idx1-ubyte.gz\n"
          ]
        },
        {
          "output_type": "display_data",
          "data": {
            "text/plain": [
              "  0%|          | 0/28881 [00:00<?, ?it/s]"
            ],
            "application/vnd.jupyter.widget-view+json": {
              "version_major": 2,
              "version_minor": 0,
              "model_id": "a8068b13391b404d85e6ada0ef3c8cc5"
            }
          },
          "metadata": {}
        },
        {
          "output_type": "stream",
          "name": "stdout",
          "text": [
            "Extracting data/MNIST/raw/train-labels-idx1-ubyte.gz to data/MNIST/raw\n",
            "\n",
            "Downloading http://yann.lecun.com/exdb/mnist/t10k-images-idx3-ubyte.gz\n",
            "Downloading http://yann.lecun.com/exdb/mnist/t10k-images-idx3-ubyte.gz to data/MNIST/raw/t10k-images-idx3-ubyte.gz\n"
          ]
        },
        {
          "output_type": "display_data",
          "data": {
            "text/plain": [
              "  0%|          | 0/1648877 [00:00<?, ?it/s]"
            ],
            "application/vnd.jupyter.widget-view+json": {
              "version_major": 2,
              "version_minor": 0,
              "model_id": "b5d056f850ea48799d512f740a1537f9"
            }
          },
          "metadata": {}
        },
        {
          "output_type": "stream",
          "name": "stdout",
          "text": [
            "Extracting data/MNIST/raw/t10k-images-idx3-ubyte.gz to data/MNIST/raw\n",
            "\n",
            "Downloading http://yann.lecun.com/exdb/mnist/t10k-labels-idx1-ubyte.gz\n",
            "Downloading http://yann.lecun.com/exdb/mnist/t10k-labels-idx1-ubyte.gz to data/MNIST/raw/t10k-labels-idx1-ubyte.gz\n"
          ]
        },
        {
          "output_type": "display_data",
          "data": {
            "text/plain": [
              "  0%|          | 0/4542 [00:00<?, ?it/s]"
            ],
            "application/vnd.jupyter.widget-view+json": {
              "version_major": 2,
              "version_minor": 0,
              "model_id": "1ff831ad9cea471a8372ffe5c54e8fe2"
            }
          },
          "metadata": {}
        },
        {
          "output_type": "stream",
          "name": "stdout",
          "text": [
            "Extracting data/MNIST/raw/t10k-labels-idx1-ubyte.gz to data/MNIST/raw\n",
            "\n"
          ]
        }
      ]
    },
    {
      "cell_type": "code",
      "source": [
        "data[0][0].shape"
      ],
      "metadata": {
        "colab": {
          "base_uri": "https://localhost:8080/"
        },
        "id": "RJRG4X1joHTq",
        "outputId": "2c01624f-afc9-45c5-be75-c7f17c2e5b6c"
      },
      "execution_count": 40,
      "outputs": [
        {
          "output_type": "execute_result",
          "data": {
            "text/plain": [
              "torch.Size([1, 28, 28])"
            ]
          },
          "metadata": {},
          "execution_count": 40
        }
      ]
    },
    {
      "cell_type": "code",
      "source": [
        "type(data), len(data), len(test_data)"
      ],
      "metadata": {
        "colab": {
          "base_uri": "https://localhost:8080/"
        },
        "id": "a-FkBTF-Tz-3",
        "outputId": "8d4a34cc-e1c7-45fa-cd65-474918b03a26"
      },
      "execution_count": 22,
      "outputs": [
        {
          "output_type": "execute_result",
          "data": {
            "text/plain": [
              "(torchvision.datasets.mnist.MNIST, 60000, 10000)"
            ]
          },
          "metadata": {},
          "execution_count": 22
        }
      ]
    },
    {
      "cell_type": "code",
      "source": [
        "train_data, valid_data = torch.utils.data.random_split(data, [50000, 10000])"
      ],
      "metadata": {
        "id": "vWGiu1wJv2Gt"
      },
      "execution_count": 23,
      "outputs": []
    },
    {
      "cell_type": "code",
      "source": [
        "train_dataloader = DataLoader(train_data, batch_size=64, shuffle=True)\n",
        "val_dataloader = DataLoader(valid_data, batch_size=64, shuffle=True)\n",
        "test_dataloader = DataLoader(test_data, batch_size=64)"
      ],
      "metadata": {
        "id": "6LQaEd1U1seD"
      },
      "execution_count": 24,
      "outputs": []
    },
    {
      "cell_type": "code",
      "source": [
        "class Simple_nn(torch.nn.Module):\n",
        "  def __init__(self):\n",
        "    super().__init__()\n",
        "    self.layer1 = nn.Linear(in_features=784,out_features=250)\n",
        "    self.layer2 = nn.Linear(in_features=250,out_features=100)\n",
        "    self.layer3 = nn.Linear(in_features=100,out_features=10)\n",
        "  \n",
        "  def forward(self, input):\n",
        "    layer1_output = torch.nn.functional.relu(self.layer1(input))\n",
        "    layer2_output = torch.nn.functional.relu(self.layer2(layer1_output))\n",
        "    layer3_output = torch.nn.functional.softmax(self.layer3(layer2_output),dim=1)\n",
        "    return layer3_output,layer2_output"
      ],
      "metadata": {
        "id": "scizHGU-v2Jy"
      },
      "execution_count": 25,
      "outputs": []
    },
    {
      "cell_type": "code",
      "source": [
        "device =  torch.device(\"cuda\" if torch.cuda.is_available() else \"cpu\")\n",
        "model = Simple_nn().to(device)\n",
        "optimizer = optim.Adam(model.parameters())\n",
        "criterion = nn.CrossEntropyLoss()"
      ],
      "metadata": {
        "id": "nD4MXyOwvlaO"
      },
      "execution_count": 26,
      "outputs": []
    },
    {
      "cell_type": "code",
      "source": [
        "def get_accuracy(y_pred,y_actual):\n",
        "  y_pred = torch.argmax(y_pred,1)\n",
        "  accuracy = (y_pred == y_actual).sum()\n",
        "  return 100*accuracy/y_pred.shape[0]"
      ],
      "metadata": {
        "id": "0qrPLH9e-PFd"
      },
      "execution_count": 27,
      "outputs": []
    },
    {
      "cell_type": "code",
      "source": [
        "def train_model(dataloader,model):\n",
        "  train_loss=0\n",
        "  train_accuracy = 0\n",
        "  for input, y in iter(dataloader):\n",
        "    optimizer.zero_grad()\n",
        "    batch_size = input.shape[0]\n",
        "    image_size = input.shape[2]*input.shape[3]\n",
        "    input = input.squeeze(1).reshape(batch_size,image_size).to(device)\n",
        "    output, h2 = model(input)\n",
        "    loss = criterion(output, y.to(device))\n",
        "    accuracy = get_accuracy(output,y.to(device))\n",
        "    loss.backward()\n",
        "    train_loss+=loss\n",
        "    train_accuracy+=accuracy\n",
        "    optimizer.step()\n",
        "  train_loss=train_loss/len(dataloader)\n",
        "  train_accuracy=train_accuracy/len(dataloader)\n",
        "  return train_loss,train_accuracy"
      ],
      "metadata": {
        "id": "gHEXePFn0oNa"
      },
      "execution_count": 28,
      "outputs": []
    },
    {
      "cell_type": "code",
      "source": [
        "def eval_model(dataloader,model):\n",
        "    val_loss=0\n",
        "    val_accuracy = 0  \n",
        "    with torch.no_grad():\n",
        "        for input, y in iter(dataloader):\n",
        "          batch_size = input.shape[0]\n",
        "          image_size = input.shape[2]*input.shape[3]\n",
        "          input = input.squeeze(1).reshape(batch_size,image_size).to(device)\n",
        "          output, h2 = model(input)\n",
        "          loss = criterion(output, y.to(device))\n",
        "          accuracy = get_accuracy(output, y.to(device))\n",
        "          val_loss+=loss\n",
        "          val_accuracy+=accuracy\n",
        "        val_loss=val_loss/len(dataloader)\n",
        "        val_accuracy=val_accuracy/len(dataloader)\n",
        "        return val_loss,val_accuracy"
      ],
      "metadata": {
        "id": "DgRTeLpJ5mC0"
      },
      "execution_count": 29,
      "outputs": []
    },
    {
      "cell_type": "code",
      "source": [
        "def epoch_time(start_time, end_time):\n",
        "    elapsed_time = end_time - start_time\n",
        "    elapsed_mins = int(elapsed_time / 60)\n",
        "    elapsed_secs = int(elapsed_time - (elapsed_mins * 60))\n",
        "    return elapsed_mins, elapsed_secs"
      ],
      "metadata": {
        "id": "sh-CI2mG7Seh"
      },
      "execution_count": 30,
      "outputs": []
    },
    {
      "cell_type": "code",
      "source": [
        "N_epochs =30\n",
        "import time\n",
        "min_val_loss= float('inf')\n",
        "for i in range(N_epochs):\n",
        "  start_time = time.monotonic()\n",
        "  train_loss, train_accuracy = train_model(train_dataloader, model)\n",
        "  val_loss, val_accuracy = eval_model(val_dataloader, model)\n",
        "  if val_loss <min_val_loss:\n",
        "    min_val_loss = val_loss\n",
        "    torch.save(model.state_dict(), 'tut1-model.pt')\n",
        "  end_time = time.monotonic()\n",
        "  epoch_mins, epoch_secs = epoch_time(start_time, end_time)\n",
        "  print(f'Epoch: {i+1:02} | Epoch Time: {epoch_mins}m {epoch_secs}s | Train loss: {train_loss:02}, Train accuracy: {train_accuracy:02}, Val accuracy: {val_accuracy:02},  Val loss: {val_loss:02}')"
      ],
      "metadata": {
        "colab": {
          "base_uri": "https://localhost:8080/"
        },
        "id": "smxicRVS6Goi",
        "outputId": "740a2d4c-5cbc-42b2-982a-2f9f572f557f"
      },
      "execution_count": 31,
      "outputs": [
        {
          "output_type": "stream",
          "name": "stdout",
          "text": [
            "Epoch: 01 | Epoch Time: 0m 14s | Train loss: 1.5745612382888794, Train accuracy: 89.6799087524414, Val accuracy: 94.79498291015625,  Val loss: 1.515947937965393\n",
            "Epoch: 02 | Epoch Time: 0m 15s | Train loss: 1.5143235921859741, Train accuracy: 94.8948974609375, Val accuracy: 95.45183563232422,  Val loss: 1.5082629919052124\n",
            "Epoch: 03 | Epoch Time: 0m 14s | Train loss: 1.5030620098114014, Train accuracy: 95.91192626953125, Val accuracy: 95.78025817871094,  Val loss: 1.5042152404785156\n",
            "Epoch: 04 | Epoch Time: 0m 14s | Train loss: 1.4964752197265625, Train accuracy: 96.5233383178711, Val accuracy: 96.14849090576172,  Val loss: 1.4996066093444824\n",
            "Epoch: 05 | Epoch Time: 0m 14s | Train loss: 1.4922268390655518, Train accuracy: 96.98489379882812, Val accuracy: 96.43710327148438,  Val loss: 1.4972500801086426\n",
            "Epoch: 06 | Epoch Time: 0m 14s | Train loss: 1.4906716346740723, Train accuracy: 97.07080841064453, Val accuracy: 95.63097381591797,  Val loss: 1.505174994468689\n",
            "Epoch: 07 | Epoch Time: 0m 15s | Train loss: 1.4876524209976196, Train accuracy: 97.35853576660156, Val accuracy: 97.01433563232422,  Val loss: 1.4910776615142822\n",
            "Epoch: 08 | Epoch Time: 0m 14s | Train loss: 1.4857842922210693, Train accuracy: 97.5423583984375, Val accuracy: 97.14371490478516,  Val loss: 1.4898741245269775\n",
            "Epoch: 09 | Epoch Time: 0m 14s | Train loss: 1.4839792251586914, Train accuracy: 97.732177734375, Val accuracy: 96.71576690673828,  Val loss: 1.4945051670074463\n",
            "Epoch: 10 | Epoch Time: 0m 14s | Train loss: 1.4855124950408936, Train accuracy: 97.55834197998047, Val accuracy: 96.9347152709961,  Val loss: 1.49209463596344\n",
            "Epoch: 11 | Epoch Time: 0m 14s | Train loss: 1.4818923473358154, Train accuracy: 97.9439697265625, Val accuracy: 96.97452545166016,  Val loss: 1.4912378787994385\n",
            "Epoch: 12 | Epoch Time: 0m 14s | Train loss: 1.480644941329956, Train accuracy: 98.05187225341797, Val accuracy: 97.20342254638672,  Val loss: 1.489559531211853\n",
            "Epoch: 13 | Epoch Time: 0m 14s | Train loss: 1.48128080368042, Train accuracy: 97.97993469238281, Val accuracy: 97.01433563232422,  Val loss: 1.4906220436096191\n",
            "Epoch: 14 | Epoch Time: 0m 14s | Train loss: 1.4791911840438843, Train accuracy: 98.21371459960938, Val accuracy: 97.14371490478516,  Val loss: 1.4896345138549805\n",
            "Epoch: 15 | Epoch Time: 0m 14s | Train loss: 1.4808375835418701, Train accuracy: 98.03189086914062, Val accuracy: 97.43232727050781,  Val loss: 1.4867535829544067\n",
            "Epoch: 16 | Epoch Time: 0m 14s | Train loss: 1.4787628650665283, Train accuracy: 98.24568176269531, Val accuracy: 97.09394836425781,  Val loss: 1.490479826927185\n",
            "Epoch: 17 | Epoch Time: 0m 14s | Train loss: 1.4792118072509766, Train accuracy: 98.18174743652344, Val accuracy: 97.01433563232422,  Val loss: 1.49071204662323\n",
            "Epoch: 18 | Epoch Time: 0m 14s | Train loss: 1.4770174026489258, Train accuracy: 98.4095230102539, Val accuracy: 97.24323272705078,  Val loss: 1.488666296005249\n",
            "Epoch: 19 | Epoch Time: 0m 14s | Train loss: 1.4780218601226807, Train accuracy: 98.30762481689453, Val accuracy: 97.37261199951172,  Val loss: 1.487328290939331\n",
            "Epoch: 20 | Epoch Time: 0m 14s | Train loss: 1.4767160415649414, Train accuracy: 98.44349670410156, Val accuracy: 97.25318908691406,  Val loss: 1.4883487224578857\n",
            "Epoch: 21 | Epoch Time: 0m 15s | Train loss: 1.4790267944335938, Train accuracy: 98.209716796875, Val accuracy: 97.41242218017578,  Val loss: 1.4870609045028687\n",
            "Epoch: 22 | Epoch Time: 0m 14s | Train loss: 1.4772374629974365, Train accuracy: 98.38155364990234, Val accuracy: 97.6313705444336,  Val loss: 1.4848666191101074\n",
            "Epoch: 23 | Epoch Time: 0m 14s | Train loss: 1.478493571281433, Train accuracy: 98.26966094970703, Val accuracy: 97.02428436279297,  Val loss: 1.4908174276351929\n",
            "Epoch: 24 | Epoch Time: 0m 14s | Train loss: 1.479479432106018, Train accuracy: 98.15776824951172, Val accuracy: 97.382568359375,  Val loss: 1.4873778820037842\n",
            "Epoch: 25 | Epoch Time: 0m 14s | Train loss: 1.4773211479187012, Train accuracy: 98.3875503540039, Val accuracy: 97.4621810913086,  Val loss: 1.4865517616271973\n",
            "Epoch: 26 | Epoch Time: 0m 15s | Train loss: 1.4772398471832275, Train accuracy: 98.37955474853516, Val accuracy: 97.39251708984375,  Val loss: 1.4865705966949463\n",
            "Epoch: 27 | Epoch Time: 0m 14s | Train loss: 1.4759869575500488, Train accuracy: 98.50543212890625, Val accuracy: 97.31289672851562,  Val loss: 1.4881585836410522\n",
            "Epoch: 28 | Epoch Time: 0m 15s | Train loss: 1.476552128791809, Train accuracy: 98.45948028564453, Val accuracy: 97.35270690917969,  Val loss: 1.48772132396698\n",
            "Epoch: 29 | Epoch Time: 0m 14s | Train loss: 1.4773005247116089, Train accuracy: 98.38555145263672, Val accuracy: 97.43232727050781,  Val loss: 1.4866365194320679\n",
            "Epoch: 30 | Epoch Time: 0m 14s | Train loss: 1.4777830839157104, Train accuracy: 98.33959197998047, Val accuracy: 96.91481018066406,  Val loss: 1.4918667078018188\n"
          ]
        }
      ]
    },
    {
      "cell_type": "code",
      "source": [
        "eval_model(test_dataloader, model)"
      ],
      "metadata": {
        "colab": {
          "base_uri": "https://localhost:8080/"
        },
        "id": "gk5mQqQ-kFTD",
        "outputId": "4fa8dfcb-8f3f-46fe-b492-e24fc9e10eba"
      },
      "execution_count": 32,
      "outputs": [
        {
          "output_type": "execute_result",
          "data": {
            "text/plain": [
              "(tensor(1.4900, device='cuda:0'), tensor(97.1139, device='cuda:0'))"
            ]
          },
          "metadata": {},
          "execution_count": 32
        }
      ]
    },
    {
      "cell_type": "code",
      "source": [
        "import matplotlib.pyplot as plt"
      ],
      "metadata": {
        "id": "7Bvnz7ps2FRV"
      },
      "execution_count": 33,
      "outputs": []
    },
    {
      "cell_type": "code",
      "source": [
        "for input, y in iter(test_dataloader):\n",
        "    input1 = input.squeeze(1).reshape(64, 784).to(device)\n",
        "    res = model(input1)\n",
        "    res = res[0].argmax(dim=1).cpu().detach().numpy()\n",
        "    fig,ax = plt.subplots(2,16,figsize=(20,4))\n",
        "    for i in range(32):\n",
        "          ax[int(i/16)][i%16].imshow(input.numpy().squeeze()[i])\n",
        "          ax[int(i/16)][i%16].set_title(res[i])\n",
        "    break"
      ],
      "metadata": {
        "colab": {
          "base_uri": "https://localhost:8080/",
          "height": 241
        },
        "id": "RYdUsI9V1QDX",
        "outputId": "a656b9c3-0c60-4a44-9d6e-2503cb2fd91a"
      },
      "execution_count": 34,
      "outputs": [
        {
          "output_type": "display_data",
          "data": {
            "text/plain": [
              "<Figure size 1440x288 with 32 Axes>"
            ],
            "image/png": "[encoded data removed]"
          },
          "metadata": {
            "needs_background": "light"
          }
        }
      ]
    }
  ]
}