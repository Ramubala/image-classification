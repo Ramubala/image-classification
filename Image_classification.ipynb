{
  "nbformat": 4,
  "nbformat_minor": 0,
  "metadata": {
    "colab": {
      "provenance": [],
      "collapsed_sections": [],
      "authorship_tag": "ABX9TyPmHKh0SifERqeIQF8AJUAl",
      "include_colab_link": true
    },
    "kernelspec": {
      "name": "python3",
      "display_name": "Python 3"
    },
    "language_info": {
      "name": "python"
    }
  },
  "cells": [
    {
      "cell_type": "markdown",
      "metadata": {
        "id": "view-in-github",
        "colab_type": "text"
      },
      "source": [
        "<a href=\"https://colab.research.google.com/github/Ramubala/image-classification/blob/main/Image_classification.ipynb\" target=\"_parent\"><img src=\"https://colab.research.google.com/assets/colab-badge.svg\" alt=\"Open In Colab\"/></a>"
      ]
    },
    {
      "cell_type": "code",
      "execution_count": null,
      "metadata": {
        "colab": {
          "base_uri": "https://localhost:8080/"
        },
        "id": "djIfCzg_O1dY",
        "outputId": "153d715c-7712-41d5-f93b-f65eff92da36"
      },
      "outputs": [
        {
          "output_type": "stream",
          "name": "stdout",
          "text": [
            "Cloning into 'image-classification'...\n",
            "remote: Enumerating objects: 4, done.\u001b[K\n",
            "remote: Counting objects: 100% (4/4), done.\u001b[K\n",
            "remote: Compressing objects: 100% (4/4), done.\u001b[K\n",
            "remote: Total 4 (delta 0), reused 0 (delta 0), pack-reused 0\u001b[K\n",
            "Unpacking objects: 100% (4/4), done.\n"
          ]
        }
      ],
      "source": [
        "! git clone https://github.com/Ramubala/image-classification.git"
      ]
    },
    {
      "cell_type": "code",
      "source": [
        "%ls\n",
        "%cd image-classification"
      ],
      "metadata": {
        "colab": {
          "base_uri": "https://localhost:8080/"
        },
        "id": "Rw0VDgeaPcUa",
        "outputId": "6198a899-323c-4994-b413-460ca8d971fd"
      },
      "execution_count": null,
      "outputs": [
        {
          "output_type": "stream",
          "name": "stdout",
          "text": [
            "\u001b[0m\u001b[01;34mimage-classification\u001b[0m/  \u001b[01;34msample_data\u001b[0m/\n",
            "/content/image-classification\n"
          ]
        }
      ]
    },
    {
      "cell_type": "code",
      "source": [
        "import torchvision.datasets as datasets\n",
        "import torch\n",
        "import torch.nn as nn\n",
        "import torch.optim as optim\n",
        "from torch.utils.data import DataLoader\n",
        "from torchvision.transforms import ToTensor\n",
        "import numpy as np"
      ],
      "metadata": {
        "id": "zclKEyMbPjHp"
      },
      "execution_count": null,
      "outputs": []
    },
    {
      "cell_type": "code",
      "source": [
        "dir = 'data'\n",
        "#!rm -rf data\n",
        "data = datasets.MNIST(root=dir, train=True, download =True, transform=ToTensor())\n",
        "test_data = datasets.MNIST(root=dir, train=False, download =True, transform=ToTensor())"
      ],
      "metadata": {
        "id": "ydvOBJMMTRgo"
      },
      "execution_count": null,
      "outputs": []
    },
    {
      "cell_type": "code",
      "source": [
        "type(data), len(data), len(test_data)"
      ],
      "metadata": {
        "colab": {
          "base_uri": "https://localhost:8080/"
        },
        "id": "a-FkBTF-Tz-3",
        "outputId": "6165dd11-3f05-4c9c-94f2-8e12487eeb27"
      },
      "execution_count": null,
      "outputs": [
        {
          "output_type": "execute_result",
          "data": {
            "text/plain": [
              "(torchvision.datasets.mnist.MNIST, 60000, 10000)"
            ]
          },
          "metadata": {},
          "execution_count": 31
        }
      ]
    },
    {
      "cell_type": "code",
      "source": [
        "train_data, valid_data = torch.utils.data.random_split(data, [50000, 10000])"
      ],
      "metadata": {
        "id": "vWGiu1wJv2Gt"
      },
      "execution_count": null,
      "outputs": []
    },
    {
      "cell_type": "code",
      "source": [
        "train_dataloader = DataLoader(train_data, batch_size=64, shuffle=True)\n",
        "val_dataloader = DataLoader(valid_data, batch_size=64, shuffle=True)\n",
        "test_dataloader = DataLoader(test_data, batch_size=64)"
      ],
      "metadata": {
        "id": "6LQaEd1U1seD"
      },
      "execution_count": null,
      "outputs": []
    },
    {
      "cell_type": "code",
      "source": [
        "class Simple_nn(torch.nn.Module):\n",
        "  def __init__(self):\n",
        "    super().__init__()\n",
        "    self.layer1 = nn.Linear(in_features=784,out_features=250)\n",
        "    self.layer2 = nn.Linear(in_features=250,out_features=100)\n",
        "    self.layer3 = nn.Linear(in_features=100,out_features=10)\n",
        "  \n",
        "  def forward(self, input):\n",
        "    layer1_output = torch.nn.functional.relu(self.layer1(input))\n",
        "    layer2_output = torch.nn.functional.relu(self.layer2(layer1_output))\n",
        "    layer3_output = torch.nn.functional.relu(self.layer3(layer2_output))\n",
        "    return layer3_output,layer2_output"
      ],
      "metadata": {
        "id": "scizHGU-v2Jy"
      },
      "execution_count": null,
      "outputs": []
    },
    {
      "cell_type": "code",
      "source": [
        "device =  torch.device(\"cuda\" if torch.cuda.is_available() else \"cpu\")\n",
        "model = Simple_nn().to(device)\n",
        "optimizer = optim.Adam(model.parameters())\n",
        "criterion = nn.CrossEntropyLoss()"
      ],
      "metadata": {
        "id": "nD4MXyOwvlaO"
      },
      "execution_count": null,
      "outputs": []
    },
    {
      "cell_type": "code",
      "source": [
        "def get_accuracy(y_pred,y_actual):\n",
        "  y_pred = torch.argmax(y_pred,1)\n",
        "  accuracy = (y_pred == y_actual).sum()\n",
        "  return 100*accuracy/y_pred.shape[0]"
      ],
      "metadata": {
        "id": "0qrPLH9e-PFd"
      },
      "execution_count": null,
      "outputs": []
    },
    {
      "cell_type": "code",
      "source": [
        "def train_model(dataloader,model):\n",
        "  train_loss=0\n",
        "  train_accuracy = 0\n",
        "  for input, y in iter(dataloader):\n",
        "    optimizer.zero_grad()\n",
        "    batch_size = input.shape[0]\n",
        "    image_size = input.shape[2]*input.shape[3]\n",
        "    input = input.squeeze(1).reshape(batch_size,image_size)\n",
        "    output, h2 = model(input)\n",
        "    loss = criterion(output, y)\n",
        "    accuracy = get_accuracy(output,y)\n",
        "    loss.backward()\n",
        "    train_loss+=loss\n",
        "    train_accuracy+=accuracy\n",
        "    optimizer.step()\n",
        "  train_loss=train_loss/len(dataloader)\n",
        "  train_accuracy=train_accuracy/len(dataloader)\n",
        "  return train_loss,train_accuracy"
      ],
      "metadata": {
        "id": "gHEXePFn0oNa"
      },
      "execution_count": null,
      "outputs": []
    },
    {
      "cell_type": "code",
      "source": [
        "def eval_model(dataloader,model):\n",
        "    val_loss=0\n",
        "    val_accuracy = 0  \n",
        "    with torch.no_grad():\n",
        "        for input, y in iter(dataloader):\n",
        "          batch_size = input.shape[0]\n",
        "          image_size = input.shape[2]*input.shape[3]\n",
        "          input = input.squeeze(1).reshape(batch_size,image_size)\n",
        "          output, h2 = model(input)\n",
        "          loss = criterion(output, y)\n",
        "          accuracy = get_accuracy(output, y)\n",
        "          val_loss+=loss\n",
        "          val_accuracy+=accuracy\n",
        "        val_loss=val_loss/len(dataloader)\n",
        "        val_accuracy=val_accuracy/len(dataloader)\n",
        "        return val_loss,val_accuracy"
      ],
      "metadata": {
        "id": "DgRTeLpJ5mC0"
      },
      "execution_count": null,
      "outputs": []
    },
    {
      "cell_type": "code",
      "source": [
        "def epoch_time(start_time, end_time):\n",
        "    elapsed_time = end_time - start_time\n",
        "    elapsed_mins = int(elapsed_time / 60)\n",
        "    elapsed_secs = int(elapsed_time - (elapsed_mins * 60))\n",
        "    return elapsed_mins, elapsed_secs"
      ],
      "metadata": {
        "id": "sh-CI2mG7Seh"
      },
      "execution_count": null,
      "outputs": []
    },
    {
      "cell_type": "code",
      "source": [
        "N_epochs =20\n",
        "import time\n",
        "min_val_loss= float('inf')\n",
        "for i in range(N_epochs):\n",
        "  start_time = time.monotonic()\n",
        "  train_loss, train_accuracy = train_model(train_dataloader, model)\n",
        "  val_loss, val_accuracy = eval_model(val_dataloader, model)\n",
        "  if val_loss <min_val_loss:\n",
        "    min_val_loss = val_loss\n",
        "    torch.save(model.state_dict(), 'tut1-model.pt')\n",
        "  end_time = time.monotonic()\n",
        "  epoch_mins, epoch_secs = epoch_time(start_time, end_time)\n",
        "  print(f'Epoch: {i+1:02} | Epoch Time: {epoch_mins}m {epoch_secs}s | Train loss: {train_loss:02}, Train accuracy: {train_accuracy:02}, Val accuracy: {val_accuracy:02},  Val loss: {val_loss:02}')"
      ],
      "metadata": {
        "colab": {
          "base_uri": "https://localhost:8080/"
        },
        "id": "smxicRVS6Goi",
        "outputId": "b5ee48d4-96b6-4ae5-c968-cd01cf5df35b"
      },
      "execution_count": null,
      "outputs": [
        {
          "output_type": "stream",
          "name": "stdout",
          "text": [
            "Epoch: 01 | Epoch Time: 0m 9s | Train loss: 0.7662630081176758, Train accuracy: 73.22969818115234, Val accuracy: 76.5625,  Val loss: 0.6239291429519653\n",
            "Epoch: 02 | Epoch Time: 0m 9s | Train loss: 0.5676634311676025, Train accuracy: 77.79331970214844, Val accuracy: 77.63734436035156,  Val loss: 0.5699832439422607\n",
            "Epoch: 03 | Epoch Time: 0m 9s | Train loss: 0.5289758443832397, Train accuracy: 78.65249633789062, Val accuracy: 77.8463363647461,  Val loss: 0.5493590235710144\n",
            "Epoch: 04 | Epoch Time: 0m 9s | Train loss: 0.5074461102485657, Train accuracy: 79.10205841064453, Val accuracy: 77.83638763427734,  Val loss: 0.5436131358146667\n",
            "Epoch: 05 | Epoch Time: 0m 9s | Train loss: 0.4957595467567444, Train accuracy: 79.34382629394531, Val accuracy: 78.21456909179688,  Val loss: 0.5385439991950989\n",
            "Epoch: 06 | Epoch Time: 0m 9s | Train loss: 0.48728689551353455, Train accuracy: 79.56961059570312, Val accuracy: 78.44347381591797,  Val loss: 0.5437370538711548\n",
            "Epoch: 07 | Epoch Time: 0m 10s | Train loss: 0.4790501892566681, Train accuracy: 79.76742553710938, Val accuracy: 78.33399963378906,  Val loss: 0.5429745316505432\n",
            "Epoch: 08 | Epoch Time: 0m 9s | Train loss: 0.47695574164390564, Train accuracy: 79.79739379882812, Val accuracy: 78.09514617919922,  Val loss: 0.5473881363868713\n",
            "Epoch: 09 | Epoch Time: 0m 10s | Train loss: 0.47029757499694824, Train accuracy: 79.93526458740234, Val accuracy: 78.3738021850586,  Val loss: 0.5451526641845703\n",
            "Epoch: 10 | Epoch Time: 0m 9s | Train loss: 0.4690555930137634, Train accuracy: 79.98521423339844, Val accuracy: 78.30413818359375,  Val loss: 0.542097270488739\n",
            "Epoch: 11 | Epoch Time: 0m 9s | Train loss: 0.46933427453041077, Train accuracy: 79.9532470703125, Val accuracy: 77.97571563720703,  Val loss: 0.5531452894210815\n",
            "Epoch: 12 | Epoch Time: 0m 10s | Train loss: 0.4653734266757965, Train accuracy: 80.03516387939453, Val accuracy: 78.47332763671875,  Val loss: 0.5449730157852173\n",
            "Epoch: 13 | Epoch Time: 0m 9s | Train loss: 0.46363595128059387, Train accuracy: 80.10709381103516, Val accuracy: 78.53304290771484,  Val loss: 0.5432877540588379\n",
            "Epoch: 14 | Epoch Time: 0m 10s | Train loss: 0.4645285904407501, Train accuracy: 80.01119232177734, Val accuracy: 78.41361236572266,  Val loss: 0.5565603375434875\n",
            "Epoch: 15 | Epoch Time: 0m 9s | Train loss: 0.46433618664741516, Train accuracy: 80.089111328125, Val accuracy: 78.07524108886719,  Val loss: 0.5533554553985596\n",
            "Epoch: 16 | Epoch Time: 0m 10s | Train loss: 0.46156445145606995, Train accuracy: 80.16703796386719, Val accuracy: 78.32404327392578,  Val loss: 0.5582621693611145\n",
            "Epoch: 17 | Epoch Time: 0m 10s | Train loss: 0.46356743574142456, Train accuracy: 80.0791244506836, Val accuracy: 78.59275817871094,  Val loss: 0.5638599395751953\n",
            "Epoch: 18 | Epoch Time: 0m 9s | Train loss: 0.4616605043411255, Train accuracy: 80.13107299804688, Val accuracy: 78.43351745605469,  Val loss: 0.5642852187156677\n",
            "Epoch: 19 | Epoch Time: 0m 10s | Train loss: 0.45947593450546265, Train accuracy: 80.18102264404297, Val accuracy: 78.68232727050781,  Val loss: 0.5415723323822021\n",
            "Epoch: 20 | Epoch Time: 0m 10s | Train loss: 0.4608919620513916, Train accuracy: 80.1530532836914, Val accuracy: 78.60270690917969,  Val loss: 0.5506389737129211\n"
          ]
        }
      ]
    }
  ]
}